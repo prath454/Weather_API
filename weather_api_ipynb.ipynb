{
  "nbformat": 4,
  "nbformat_minor": 0,
  "metadata": {
    "colab": {
      "provenance": []
    },
    "kernelspec": {
      "name": "python3",
      "display_name": "Python 3"
    },
    "language_info": {
      "name": "python"
    }
  },
  "cells": [
    {
      "cell_type": "code",
      "execution_count": 5,
      "metadata": {
        "id": "mKuSq1x0C5yH"
      },
      "outputs": [],
      "source": [
        "#import requests\n",
        "import requests\n",
        "API_KEY = \"16bc10c5ea705f01ef32b5f1a06f586e\" #kpi"
      ]
    },
    {
      "cell_type": "code",
      "source": [
        "city = \"Kathmandu\" #city\n",
        "url = f\"http://api.openweathermap.org/data/2.5/weather?q={city}&appid={API_KEY}&units=metric\""
      ],
      "metadata": {
        "id": "GktjMLvSDFub"
      },
      "execution_count": 6,
      "outputs": []
    },
    {
      "cell_type": "code",
      "source": [
        "response = requests.get(url)"
      ],
      "metadata": {
        "id": "kTqyz2bBDWb6"
      },
      "execution_count": 3,
      "outputs": []
    },
    {
      "cell_type": "code",
      "source": [
        "data = response.json()"
      ],
      "metadata": {
        "id": "3u6dOcwEDbGM"
      },
      "execution_count": 4,
      "outputs": []
    },
    {
      "cell_type": "code",
      "source": [
        "if response.status_code == 200:\n",
        "\n",
        "#print weather\n",
        "  print(f\"Weather in {city}:\")\n",
        "  print(f\"Temperature: {data['main']['temp']}°C\")\n",
        "  print(f\"Weather: {data['weather'] [0] ['description']}\")\n",
        "  print(f\"Humidity: {data['main']['humidity']}%\")\n",
        "else:\n",
        "  print(\"Error:\", data.get(\"message\", \"Failed to get weather data\"))"
      ],
      "metadata": {
        "colab": {
          "base_uri": "https://localhost:8080/"
        },
        "id": "40EuI2VwDenv",
        "outputId": "4cd5476e-f4be-46b7-e1d0-2015c4cd66a8"
      },
      "execution_count": 7,
      "outputs": [
        {
          "output_type": "stream",
          "name": "stdout",
          "text": [
            "Weather in Kathmandu:\n",
            "Temperature: 30.12°C\n",
            "Weather: broken clouds\n",
            "Humidity: 62%\n"
          ]
        }
      ]
    },
    {
      "cell_type": "code",
      "source": [],
      "metadata": {
        "id": "Yp66F2-gE85D"
      },
      "execution_count": null,
      "outputs": []
    }
  ]
}